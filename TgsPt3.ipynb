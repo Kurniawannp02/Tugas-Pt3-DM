{
  "nbformat": 4,
  "nbformat_minor": 0,
  "metadata": {
    "colab": {
      "provenance": [],
      "authorship_tag": "ABX9TyOrdDyCpgFjwLTYdOUtbyEk",
      "include_colab_link": true
    },
    "kernelspec": {
      "name": "python3",
      "display_name": "Python 3"
    },
    "language_info": {
      "name": "python"
    }
  },
  "cells": [
    {
      "cell_type": "markdown",
      "metadata": {
        "id": "view-in-github",
        "colab_type": "text"
      },
      "source": [
        "<a href=\"https://colab.research.google.com/github/Kurniawannp02/Tugas-Pt3-DM/blob/main/TgsPt3.ipynb\" target=\"_parent\"><img src=\"https://colab.research.google.com/assets/colab-badge.svg\" alt=\"Open In Colab\"/></a>"
      ]
    },
    {
      "cell_type": "code",
      "execution_count": 16,
      "metadata": {
        "colab": {
          "base_uri": "https://localhost:8080/"
        },
        "id": "ogq-MLvJd3PM",
        "outputId": "a23999fd-aa06-4e17-cbb2-cea9e5265dfb"
      },
      "outputs": [
        {
          "output_type": "stream",
          "name": "stdout",
          "text": [
            "[[32.0 'Male' \"Bachelor's\" 'Software Engineer' 5.0]\n",
            " [28.0 'Female' \"Master's\" 'Data Analyst' 3.0]\n",
            " [45.0 'Male' 'PhD' 'Senior Manager' 15.0]\n",
            " ...\n",
            " [29.0 'Female' \"Bachelor's\" 'Junior Project Manager' 2.0]\n",
            " [34.0 'Male' \"Bachelor's\" 'Senior Operations Coordinator' 7.0]\n",
            " [44.0 'Female' 'PhD' 'Senior Business Analyst' 15.0]]\n",
            "\n",
            "[ 90000.  65000. 150000.  60000. 200000.  55000. 120000.  80000.  45000.\n",
            " 110000.  75000. 140000.  65000. 130000.  40000. 125000.  90000. 115000.\n",
            "  35000. 180000.  80000. 190000.  50000.  60000. 140000.  45000. 110000.\n",
            "  40000. 140000.  90000. 250000.  55000.  75000.  65000. 170000.  45000.\n",
            "  60000. 115000.  40000. 160000.  80000. 190000.  60000.  45000. 130000.\n",
            "  40000.  75000. 180000. 120000.  35000. 130000.  85000.  60000. 200000.\n",
            "  50000.  95000.  65000. 140000.  55000. 105000. 170000.  50000.  80000.\n",
            " 180000.  35000.  90000. 120000.  45000.  90000. 150000.  65000.  70000.\n",
            " 190000.  40000. 120000.  95000. 160000. 100000. 180000.  55000.  70000.\n",
            "  80000.  30000. 250000.  40000.  95000.  45000.  80000. 135000.  55000.\n",
            " 120000.  40000. 105000. 170000.  75000.  65000. 160000.  35000.  90000.\n",
            " 110000.  45000.  95000. 150000.  50000.  80000. 220000.  50000.  60000.\n",
            " 100000.  40000. 110000.  95000. 130000.  90000.  35000.  95000.  65000.\n",
            " 170000.  45000. 120000. 100000. 180000.  50000.  80000. 140000.  40000.\n",
            "  95000. 110000.  50000. 105000. 160000.  45000. 100000. 160000.  35000.\n",
            "  55000. 140000.  50000.  60000. 120000.  40000. 110000.  50000. 135000.\n",
            "  40000.  90000. 150000.  60000.  80000. 175000.  45000. 120000. 140000.\n",
            "  35000.  95000. 110000.  50000. 115000. 185000.  40000.  90000. 175000.\n",
            "  45000.  80000. 120000.  35000. 110000. 150000.  50000. 105000. 180000.\n",
            "  40000.     nan 140000.  45000.  85000. 140000.  50000.  80000. 170000.\n",
            "  40000. 105000. 145000.  40000.  85000. 130000.  95000. 100000. 180000.\n",
            "  35000.  95000. 170000.  45000.  95000. 120000.  40000.  90000. 155000.\n",
            "  55000. 110000. 180000.  45000. 130000.  45000.  90000. 160000.  50000.\n",
            " 120000. 170000.  40000. 110000. 150000.  40000.  85000. 130000. 100000.\n",
            "  95000. 180000.  35000. 100000. 170000.  45000. 100000. 140000.  40000.\n",
            " 105000. 160000.  70000. 120000. 190000.  45000. 120000.  50000.  85000.\n",
            " 140000.  45000. 100000. 140000.  70000. 120000. 160000.  40000. 120000.\n",
            " 150000.  70000.  95000. 180000.  50000.  95000. 170000.  40000. 110000.\n",
            " 150000.  40000.  85000. 130000. 100000.  95000. 180000.    350.     nan\n",
            " 120000. 160000.  50000. 110000.  40000.  95000. 140000.  60000. 110000.\n",
            " 150000.  60000.  90000. 180000.  40000. 120000. 160000.  70000.  95000.\n",
            " 180000.  50000.  95000. 170000.  35000. 100000. 150000.  60000.  85000.\n",
            " 130000.  65000. 110000. 180000.  40000.  90000. 140000.  60000. 130000.\n",
            " 160000.  40000. 100000. 180000.  55000. 120000. 150000.  70000.  95000.\n",
            " 180000.  50000. 120000. 170000.  35000. 100000. 150000.  60000.  85000.\n",
            " 130000.  80000.  95000.  40000. 120000. 160000.  65000. 130000. 180000.\n",
            "  40000. 100000. 150000.  55000. 110000. 180000.  50000. 130000. 160000.\n",
            "  60000.  95000. 170000.  40000.  90000. 150000.  70000.  90000. 170000.\n",
            "  50000. 150000. 160000.  60000.  85000. 180000.  35000. 110000. 160000.\n",
            "  55000. 110000. 180000.  50000. 130000. 160000.  60000.  95000. 170000.\n",
            "  40000.  90000. 150000.  70000.  90000. 170000.  50000. 150000. 160000.\n",
            "  60000.  85000. 170000.  40000.  90000. 150000.]\n"
          ]
        }
      ],
      "source": [
        "import numpy as np\n",
        "import matplotlib.pyplot as plt\n",
        "import pandas as pd\n",
        "\n",
        "dataset = pd.read_csv('Salary Data.csv')\n",
        "x = dataset.iloc[:, :-1].values\n",
        "y = dataset.iloc[:, -1].values\n",
        "print(str(x)+\"\\n\")\n",
        "print(y)"
      ]
    },
    {
      "cell_type": "code",
      "source": [
        "from sklearn.impute import SimpleImputer\n",
        "imputer = SimpleImputer (missing_values=np.nan, strategy='mean')\n",
        "imputer.fit(x[:, 4:5])\n",
        "x[:, 4:5] = imputer.transform(x[:, 4:5])\n",
        "\n",
        "print(x)"
      ],
      "metadata": {
        "colab": {
          "base_uri": "https://localhost:8080/"
        },
        "id": "PvvMn_Ha2npb",
        "outputId": "5ba9a9c3-23ec-40ec-fbff-952140d387ff"
      },
      "execution_count": 17,
      "outputs": [
        {
          "output_type": "stream",
          "name": "stdout",
          "text": [
            "[[32.0 'Male' \"Bachelor's\" 'Software Engineer' 5.0]\n",
            " [28.0 'Female' \"Master's\" 'Data Analyst' 3.0]\n",
            " [45.0 'Male' 'PhD' 'Senior Manager' 15.0]\n",
            " ...\n",
            " [29.0 'Female' \"Bachelor's\" 'Junior Project Manager' 2.0]\n",
            " [34.0 'Male' \"Bachelor's\" 'Senior Operations Coordinator' 7.0]\n",
            " [44.0 'Female' 'PhD' 'Senior Business Analyst' 15.0]]\n"
          ]
        }
      ]
    },
    {
      "cell_type": "code",
      "source": [
        "from sklearn.compose import ColumnTransformer\n",
        "from sklearn.preprocessing import OneHotEncoder\n",
        "ct = ColumnTransformer (transformers=[ ('encoder' , OneHotEncoder(sparse_output=False), [0])], remainder='passthrough')\n",
        "X = np.array(ct.fit_transform(x))\n",
        "\n",
        "print(X)"
      ],
      "metadata": {
        "colab": {
          "base_uri": "https://localhost:8080/"
        },
        "id": "7FgqkWn723QC",
        "outputId": "515d8695-e94d-4f87-807e-41bc4acb9392"
      },
      "execution_count": 18,
      "outputs": [
        {
          "output_type": "stream",
          "name": "stdout",
          "text": [
            "[[0.0 0.0 0.0 ... \"Bachelor's\" 'Software Engineer' 5.0]\n",
            " [0.0 0.0 0.0 ... \"Master's\" 'Data Analyst' 3.0]\n",
            " [0.0 0.0 0.0 ... 'PhD' 'Senior Manager' 15.0]\n",
            " ...\n",
            " [0.0 0.0 0.0 ... \"Bachelor's\" 'Junior Project Manager' 2.0]\n",
            " [0.0 0.0 0.0 ... \"Bachelor's\" 'Senior Operations Coordinator' 7.0]\n",
            " [0.0 0.0 0.0 ... 'PhD' 'Senior Business Analyst' 15.0]]\n"
          ]
        }
      ]
    },
    {
      "cell_type": "code",
      "source": [
        "from sklearn.preprocessing import LabelEncoder\n",
        "le = LabelEncoder()\n",
        "y = le.fit_transform(y)\n",
        "\n",
        "print(y)"
      ],
      "metadata": {
        "colab": {
          "base_uri": "https://localhost:8080/"
        },
        "id": "KM92WsYC28m7",
        "outputId": "9d72673d-39d2-4660-e892-4f5fb12851b2"
      },
      "execution_count": 20,
      "outputs": [
        {
          "output_type": "stream",
          "name": "stdout",
          "text": [
            "[13  8 25  7 33  6 19 11  4 17 10 23  8 21  3 20 13 18  2 30 11 32  5  7\n",
            " 23  4 17  3 23 13 35  6 10  8 28  4  7 18  3 27 11 32  7  4 21  3 10 30\n",
            " 19  2 21 12  7 33  5 14  8 23  6 16 28  5 11 30  2 13 19  4 13 25  8  9\n",
            " 32  3 19 14 27 15 30  6  9 11  1 35  3 14  4 11 22  6 19  3 16 28 10  8\n",
            " 27  2 13 17  4 14 25  5 11 34  5  7 15  3 17 14 21 13  2 14  8 28  4 19\n",
            " 15 30  5 11 23  3 14 17  5 16 27  4 15 27  2  6 23  5  7 19  3 17  5 22\n",
            "  3 13 25  7 11 29  4 19 23  2 14 17  5 18 31  3 13 29  4 11 19  2 17 25\n",
            "  5 16 30  3 36 23  4 12 23  5 11 28  3 16 24  3 12 21 14 15 30  2 14 28\n",
            "  4 14 19  3 13 26  6 17 30  4 21  4 13 27  5 19 28  3 17 25  3 12 21 15\n",
            " 14 30  2 15 28  4 15 23  3 16 27  9 19 32  4 19  5 12 23  4 15 23  9 19\n",
            " 27  3 19 25  9 14 30  5 14 28  3 17 25  3 12 21 15 14 30  0 36 19 27  5\n",
            " 17  3 14 23  7 17 25  7 13 30  3 19 27  9 14 30  5 14 28  2 15 25  7 12\n",
            " 21  8 17 30  3 13 23  7 21 27  3 15 30  6 19 25  9 14 30  5 19 28  2 15\n",
            " 25  7 12 21 11 14  3 19 27  8 21 30  3 15 25  6 17 30  5 21 27  7 14 28\n",
            "  3 13 25  9 13 28  5 25 27  7 12 30  2 17 27  6 17 30  5 21 27  7 14 28\n",
            "  3 13 25  9 13 28  5 25 27  7 12 28  3 13 25]\n"
          ]
        }
      ]
    },
    {
      "cell_type": "code",
      "source": [
        "from sklearn.model_selection import train_test_split\n",
        "X_train, X_test, y_train, y_test = train_test_split(X, y, test_size = 0.2, random_state = 1)\n",
        "\n",
        "print(X_train)"
      ],
      "metadata": {
        "colab": {
          "base_uri": "https://localhost:8080/"
        },
        "id": "CjV9eiqQ3Gri",
        "outputId": "afd07b6f-64f0-4717-e9a8-4859d2b6ac07"
      },
      "execution_count": 21,
      "outputs": [
        {
          "output_type": "stream",
          "name": "stdout",
          "text": [
            "[[0.0 0.0 0.0 ... 'PhD' 'Senior Data Engineer' 16.0]\n",
            " [0.0 0.0 0.0 ... \"Master's\" 'Senior Financial Analyst' 6.0]\n",
            " [0.0 1.0 0.0 ... \"Bachelor's\" 'Junior Developer' 1.0]\n",
            " ...\n",
            " [0.0 0.0 0.0 ... 'PhD' 'Research Director' 16.0]\n",
            " [0.0 0.0 0.0 ... \"Bachelor's\" 'Junior Sales Representative' 3.0]\n",
            " [0.0 0.0 0.0 ... \"Master's\" 'Project Engineer' 14.0]]\n"
          ]
        }
      ]
    },
    {
      "cell_type": "code",
      "source": [
        "print(X_test)"
      ],
      "metadata": {
        "colab": {
          "base_uri": "https://localhost:8080/"
        },
        "id": "-qPpu9pU3KLq",
        "outputId": "437bb650-df26-47b3-e4cc-a7cdb24f2caf"
      },
      "execution_count": 22,
      "outputs": [
        {
          "output_type": "stream",
          "name": "stdout",
          "text": [
            "[[0.0 0.0 0.0 ... \"Bachelor's\" 'Customer Service Representative' 5.0]\n",
            " [0.0 0.0 0.0 ... \"Bachelor's\" 'Junior HR Coordinator' 2.0]\n",
            " [0.0 0.0 0.0 ... \"Bachelor's\" 'Senior Project Manager' 9.0]\n",
            " ...\n",
            " [0.0 0.0 0.0 ... \"Bachelor's\" 'Junior Operations Manager' 4.0]\n",
            " [0.0 0.0 0.0 ... \"Bachelor's\" 'Senior Financial Analyst' 12.0]\n",
            " [0.0 0.0 1.0 ... \"Bachelor's\" 'Sales Representative' 0.0]]\n"
          ]
        }
      ]
    },
    {
      "cell_type": "code",
      "source": [
        "print(y_train)"
      ],
      "metadata": {
        "colab": {
          "base_uri": "https://localhost:8080/"
        },
        "id": "zpBWrnKr3OXM",
        "outputId": "42d2f5a0-df08-4e7d-82b3-c240bbc7c46d"
      },
      "execution_count": 23,
      "outputs": [
        {
          "output_type": "stream",
          "name": "stdout",
          "text": [
            "[27 14  3 30  3 19 28 28 26 30 21 19 16 16 27  3 17  5 17 16  8  8  4  3\n",
            " 14 25 28 13 14  6 36 15  4  4  5  5 27 25 15 19  9 22 15 27 23 12 13  3\n",
            "  7 19 11 13 14 12 21 17  3 13 23 13 34 11 21  8  3 13 21  7 25  2  4 14\n",
            "  3 30 28  7  4  4 28 17  5  6  6 14 30  5 31 28 21 17 19 15 15 30 16  6\n",
            " 27 14  4  9 17 25  6 15 23  6 14 15 10 15 19  2 14  8 19  4  2 30 18  5\n",
            " 10 19 27 12 12 28 25 19  3  5 23 30 13  5 25 11 32 14 19 25 33 17 30  5\n",
            " 23  9 15 12 27  2  2  8  3 30  5  8 25 25 19  5 30  8  5  7  3 13  3 16\n",
            "  2  2 30  9 32 25 14  4  6 30 13  7  3  5 23 19  6 24  5 28 27  7 28 10\n",
            " 14  3 11 21 23 10 17 27 17 27 23  7  7  3 11  5 14 30 15  5 12 29 30 25\n",
            "  7 27  3  0  3 19 13 14 19 25  9 11 19 22 25 14 21 23 17 35 17 30 14  3\n",
            "  3 12 11  2 28 27  4 13  2 20 27  3 19 17 27  4  5  7  7  2 28 35 30 14\n",
            " 27 14 17  3 11  8  7  5 14 19 11 17  4 17  3 15 13 21  5 25  7 12 27 11\n",
            " 14 23  9 16  3 28 27  4 21 32  4 18]\n"
          ]
        }
      ]
    },
    {
      "cell_type": "code",
      "source": [
        "print(y_test)"
      ],
      "metadata": {
        "colab": {
          "base_uri": "https://localhost:8080/"
        },
        "id": "B2YPezaB3PWs",
        "outputId": "ce5435f7-f64e-47d8-9a36-b772f6157679"
      },
      "execution_count": 24,
      "outputs": [
        {
          "output_type": "stream",
          "name": "stdout",
          "text": [
            "[ 4  3 19 36 19 13 25 21 13  4  7  3  2  9  6  3 17 11 29  4 19 28  5 21\n",
            " 25 33  7 30  3 25 28 30 23 28  9 14 15 21 18  3 12  5 15 13  7 23 11  2\n",
            " 23 25 15 23 32  4  5  3 13  9 28 30 17 13  3 14 21 13  2  6  8  3 30 12\n",
            "  7 21  1]\n"
          ]
        }
      ]
    },
    {
      "cell_type": "code",
      "source": [
        "from sklearn. preprocessing import StandardScaler\n",
        "sc = StandardScaler()\n",
        "X_train[:,:5] = sc.fit_transform(X_train[:,:5])\n",
        "X_test[:,:5] = sc.transform(X_test[:,:5])\n",
        "\n",
        "print(X_train)"
      ],
      "metadata": {
        "colab": {
          "base_uri": "https://localhost:8080/"
        },
        "id": "ZCRFUiHo3Rwr",
        "outputId": "b4b8ad36-57e7-426c-9fa2-6ea0a4930a96"
      },
      "execution_count": 26,
      "outputs": [
        {
          "output_type": "stream",
          "name": "stdout",
          "text": [
            "[[-0.057831493196624444 -0.05783149319662458 -0.08192319205190406 ...\n",
            "  'PhD' 'Senior Data Engineer' 16.0]\n",
            " [-0.057831493196624444 -0.05783149319662458 -0.08192319205190406 ...\n",
            "  \"Master's\" 'Senior Financial Analyst' 6.0]\n",
            " [-0.057831493196624444 17.29161646579081 -0.08192319205190406 ...\n",
            "  \"Bachelor's\" 'Junior Developer' 1.0]\n",
            " ...\n",
            " [-0.057831493196624444 -0.05783149319662458 -0.08192319205190406 ...\n",
            "  'PhD' 'Research Director' 16.0]\n",
            " [-0.057831493196624444 -0.05783149319662458 -0.08192319205190406 ...\n",
            "  \"Bachelor's\" 'Junior Sales Representative' 3.0]\n",
            " [-0.057831493196624444 -0.05783149319662458 -0.08192319205190406 ...\n",
            "  \"Master's\" 'Project Engineer' 14.0]]\n"
          ]
        }
      ]
    },
    {
      "cell_type": "code",
      "source": [
        "print(X_test)"
      ],
      "metadata": {
        "colab": {
          "base_uri": "https://localhost:8080/"
        },
        "id": "t-83tys83X9K",
        "outputId": "10343714-053a-4294-df8b-e7bb462da33b"
      },
      "execution_count": 27,
      "outputs": [
        {
          "output_type": "stream",
          "name": "stdout",
          "text": [
            "[[-0.057831493196624444 -0.05783149319662458 -0.08192319205190406 ...\n",
            "  \"Bachelor's\" 'Customer Service Representative' 5.0]\n",
            " [-0.057831493196624444 -0.05783149319662458 -0.08192319205190406 ...\n",
            "  \"Bachelor's\" 'Junior HR Coordinator' 2.0]\n",
            " [-0.057831493196624444 -0.05783149319662458 -0.08192319205190406 ...\n",
            "  \"Bachelor's\" 'Senior Project Manager' 9.0]\n",
            " ...\n",
            " [-0.057831493196624444 -0.05783149319662458 -0.08192319205190406 ...\n",
            "  \"Bachelor's\" 'Junior Operations Manager' 4.0]\n",
            " [-0.057831493196624444 -0.05783149319662458 -0.08192319205190406 ...\n",
            "  \"Bachelor's\" 'Senior Financial Analyst' 12.0]\n",
            " [-0.057831493196624444 -0.05783149319662458 12.206555615733713 ...\n",
            "  \"Bachelor's\" 'Sales Representative' 0.0]]\n"
          ]
        }
      ]
    }
  ]
}